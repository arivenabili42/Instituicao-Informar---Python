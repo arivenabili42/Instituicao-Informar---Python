{
  "nbformat": 4,
  "nbformat_minor": 0,
  "metadata": {
    "colab": {
      "provenance": [],
      "authorship_tag": "ABX9TyPrvtYo3JVNVM4aXfm9Hpu7",
      "include_colab_link": true
    },
    "kernelspec": {
      "name": "python3",
      "display_name": "Python 3"
    },
    "language_info": {
      "name": "python"
    }
  },
  "cells": [
    {
      "cell_type": "markdown",
      "metadata": {
        "id": "view-in-github",
        "colab_type": "text"
      },
      "source": [
        "<a href=\"https://colab.research.google.com/github/arivenabili42/Instituicao-Informar---Python/blob/main/anota%C3%A7%C3%B5es_intensiv%C3%A3o.ipynb\" target=\"_parent\"><img src=\"https://colab.research.google.com/assets/colab-badge.svg\" alt=\"Open In Colab\"/></a>"
      ]
    },
    {
      "cell_type": "code",
      "execution_count": null,
      "metadata": {
        "id": "A9HqM2JbvUiF"
      },
      "outputs": [],
      "source": [
        "def somar_valores(lista):\n",
        "    soma = sum(lista)\n",
        "    lista_resultado = [soma]\n",
        "    return lista_resultado"
      ]
    },
    {
      "cell_type": "code",
      "source": [
        "soma = 30\n",
        "soma_lista = []\n",
        "soma_lista.append(soma)"
      ],
      "metadata": {
        "id": "pkdIelS-vXVs"
      },
      "execution_count": null,
      "outputs": []
    },
    {
      "cell_type": "markdown",
      "source": [
        "Faça uma função que recebe um número, que seu código deve pedir ao usuário, e cria uma lista com 10 números. Os elementos da lista deverão ser colocados no final da lista sendo o dobro do número anterior. Use um loop com while para isso se preferir\n",
        "\n"
      ],
      "metadata": {
        "id": "-Z1uRWL50Ael"
      }
    },
    {
      "cell_type": "code",
      "source": [
        "while indice < len(lista):\n",
        "  atual = lista[indice]\n",
        "  lista.append(atual*2)\n",
        "  i = i + 1 # i += 1"
      ],
      "metadata": {
        "id": "5Dro3sIHz5f9"
      },
      "execution_count": null,
      "outputs": []
    },
    {
      "cell_type": "code",
      "source": [
        "lista = []\n",
        "numero = int(input(\"Digite um número: \"))\n",
        "lista.append(numero)\n",
        "\n",
        "indice = 0\n",
        "while len(lista) < 10:\n",
        "  atual = lista[indice]\n",
        "  lista.append(2 * atual)\n",
        "  indice += 1\n",
        "\n",
        "print(lista)"
      ],
      "metadata": {
        "id": "wZxXBglvz7By"
      },
      "execution_count": null,
      "outputs": []
    },
    {
      "cell_type": "code",
      "source": [
        "numero = int(input(\"Forneça um numero: \"))\n",
        "\n",
        "def multiplica(numero):\n",
        "  lista = []\n",
        "  indice = 0\n",
        "  lista.append(numero)\n",
        "  while indice < 9:\n",
        "    atual = lista[indice]\n",
        "    lista.append(atual*2)\n",
        "    indice += 1 \n",
        "  print(len(lista))\n",
        "  return lista\n",
        "\n",
        "print(multiplica(numero))"
      ],
      "metadata": {
        "id": "ihwFt14y1khD"
      },
      "execution_count": null,
      "outputs": []
    },
    {
      "cell_type": "code",
      "source": [
        "# Questão 1\n",
        "'''\n",
        "Crie uma lista com 3 valores inteiros, some todos eles e salve o resultado em uma outra lista\n",
        "'''\n",
        "\n",
        "'''\n",
        "numeros = [3, 5, 7]\n",
        "soma = numeros[0] + numeros[1] + numeros[2]\n",
        "soma_lista = []\n",
        "soma_lista.append(soma)\n",
        "print(soma)\n",
        "'''\n",
        "\n",
        "# Questão 2\n",
        "'''\n",
        "Pergunte ao usuário o seu nome e a sua idade (duas perguntas diferentes!) e guarde os valores em uma lista\n",
        "''' \n",
        "'''\n",
        "nome = input(\"Digite seu nome: \")\n",
        "idade = input(\"Digite sua idade: \")\n",
        "lista = [nome, idade]\n",
        "print(lista)\n",
        "'''\n",
        "\n",
        "# Questão 3\n",
        "'''\n",
        "Cr"
      ],
      "metadata": {
        "id": "Ou5G-fVw2_yR"
      },
      "execution_count": null,
      "outputs": []
    }
  ]
}